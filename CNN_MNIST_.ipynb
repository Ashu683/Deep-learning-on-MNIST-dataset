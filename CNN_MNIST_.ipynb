{
 "cells": [
  {
   "cell_type": "markdown",
   "metadata": {
    "colab_type": "text",
    "id": "oowDPNcEWKAg"
   },
   "source": [
    "#  3 convolution layer with kernal size(2,2) + dropout"
   ]
  },
  {
   "cell_type": "code",
   "execution_count": 0,
   "metadata": {
    "colab": {
     "base_uri": "https://localhost:8080/",
     "height": 1000
    },
    "colab_type": "code",
    "id": "H9EU0e8yzFOm",
    "outputId": "c60916a0-9f98-405c-d196-1c641bc89744"
   },
   "outputs": [
    {
     "name": "stderr",
     "output_type": "stream",
     "text": [
      "Using TensorFlow backend.\n"
     ]
    },
    {
     "data": {
      "text/html": [
       "<p style=\"color: red;\">\n",
       "The default version of TensorFlow in Colab will soon switch to TensorFlow 2.x.<br>\n",
       "We recommend you <a href=\"https://www.tensorflow.org/guide/migrate\" target=\"_blank\">upgrade</a> now \n",
       "or ensure your notebook will continue to use TensorFlow 1.x via the <code>%tensorflow_version 1.x</code> magic:\n",
       "<a href=\"https://colab.research.google.com/notebooks/tensorflow_version.ipynb\" target=\"_blank\">more info</a>.</p>\n"
      ],
      "text/plain": [
       "<IPython.core.display.HTML object>"
      ]
     },
     "metadata": {
      "tags": []
     },
     "output_type": "display_data"
    },
    {
     "name": "stdout",
     "output_type": "stream",
     "text": [
      "Downloading data from https://s3.amazonaws.com/img-datasets/mnist.npz\n",
      "11493376/11490434 [==============================] - 1s 0us/step\n",
      "x_train shape: (60000, 28, 28, 1)\n",
      "60000 train samples\n",
      "10000 test samples\n",
      "WARNING:tensorflow:From /usr/local/lib/python3.6/dist-packages/keras/backend/tensorflow_backend.py:66: The name tf.get_default_graph is deprecated. Please use tf.compat.v1.get_default_graph instead.\n",
      "\n",
      "WARNING:tensorflow:From /usr/local/lib/python3.6/dist-packages/keras/backend/tensorflow_backend.py:541: The name tf.placeholder is deprecated. Please use tf.compat.v1.placeholder instead.\n",
      "\n",
      "WARNING:tensorflow:From /usr/local/lib/python3.6/dist-packages/keras/backend/tensorflow_backend.py:4432: The name tf.random_uniform is deprecated. Please use tf.random.uniform instead.\n",
      "\n",
      "WARNING:tensorflow:From /usr/local/lib/python3.6/dist-packages/keras/backend/tensorflow_backend.py:4267: The name tf.nn.max_pool is deprecated. Please use tf.nn.max_pool2d instead.\n",
      "\n",
      "WARNING:tensorflow:From /usr/local/lib/python3.6/dist-packages/keras/backend/tensorflow_backend.py:148: The name tf.placeholder_with_default is deprecated. Please use tf.compat.v1.placeholder_with_default instead.\n",
      "\n",
      "WARNING:tensorflow:From /usr/local/lib/python3.6/dist-packages/keras/backend/tensorflow_backend.py:3733: calling dropout (from tensorflow.python.ops.nn_ops) with keep_prob is deprecated and will be removed in a future version.\n",
      "Instructions for updating:\n",
      "Please use `rate` instead of `keep_prob`. Rate should be set to `rate = 1 - keep_prob`.\n",
      "WARNING:tensorflow:Large dropout rate: 0.75 (>0.5). In TensorFlow 2.x, dropout() uses dropout rate instead of keep_prob. Please ensure that this is intended.\n",
      "WARNING:tensorflow:From /usr/local/lib/python3.6/dist-packages/keras/optimizers.py:793: The name tf.train.Optimizer is deprecated. Please use tf.compat.v1.train.Optimizer instead.\n",
      "\n",
      "WARNING:tensorflow:From /usr/local/lib/python3.6/dist-packages/keras/backend/tensorflow_backend.py:3576: The name tf.log is deprecated. Please use tf.math.log instead.\n",
      "\n",
      "WARNING:tensorflow:From /usr/local/lib/python3.6/dist-packages/tensorflow_core/python/ops/math_grad.py:1424: where (from tensorflow.python.ops.array_ops) is deprecated and will be removed in a future version.\n",
      "Instructions for updating:\n",
      "Use tf.where in 2.0, which has the same broadcast rule as np.where\n",
      "WARNING:tensorflow:From /usr/local/lib/python3.6/dist-packages/keras/backend/tensorflow_backend.py:1033: The name tf.assign_add is deprecated. Please use tf.compat.v1.assign_add instead.\n",
      "\n",
      "WARNING:tensorflow:From /usr/local/lib/python3.6/dist-packages/keras/backend/tensorflow_backend.py:1020: The name tf.assign is deprecated. Please use tf.compat.v1.assign instead.\n",
      "\n",
      "WARNING:tensorflow:From /usr/local/lib/python3.6/dist-packages/keras/backend/tensorflow_backend.py:3005: The name tf.Session is deprecated. Please use tf.compat.v1.Session instead.\n",
      "\n",
      "Train on 60000 samples, validate on 10000 samples\n",
      "Epoch 1/12\n",
      "WARNING:tensorflow:From /usr/local/lib/python3.6/dist-packages/keras/backend/tensorflow_backend.py:190: The name tf.get_default_session is deprecated. Please use tf.compat.v1.get_default_session instead.\n",
      "\n",
      "WARNING:tensorflow:From /usr/local/lib/python3.6/dist-packages/keras/backend/tensorflow_backend.py:197: The name tf.ConfigProto is deprecated. Please use tf.compat.v1.ConfigProto instead.\n",
      "\n",
      "WARNING:tensorflow:From /usr/local/lib/python3.6/dist-packages/keras/backend/tensorflow_backend.py:207: The name tf.global_variables is deprecated. Please use tf.compat.v1.global_variables instead.\n",
      "\n",
      "WARNING:tensorflow:From /usr/local/lib/python3.6/dist-packages/keras/backend/tensorflow_backend.py:216: The name tf.is_variable_initialized is deprecated. Please use tf.compat.v1.is_variable_initialized instead.\n",
      "\n",
      "WARNING:tensorflow:From /usr/local/lib/python3.6/dist-packages/keras/backend/tensorflow_backend.py:223: The name tf.variables_initializer is deprecated. Please use tf.compat.v1.variables_initializer instead.\n",
      "\n",
      "60000/60000 [==============================] - 11s 190us/step - loss: 0.6153 - acc: 0.7993 - val_loss: 0.1207 - val_acc: 0.9631\n",
      "Epoch 2/12\n",
      "60000/60000 [==============================] - 4s 68us/step - loss: 0.2624 - acc: 0.9226 - val_loss: 0.0732 - val_acc: 0.9768\n",
      "Epoch 3/12\n",
      "60000/60000 [==============================] - 4s 66us/step - loss: 0.2112 - acc: 0.9385 - val_loss: 0.0603 - val_acc: 0.9802\n",
      "Epoch 4/12\n",
      "60000/60000 [==============================] - 4s 67us/step - loss: 0.1760 - acc: 0.9487 - val_loss: 0.0495 - val_acc: 0.9842\n",
      "Epoch 5/12\n",
      "60000/60000 [==============================] - 4s 65us/step - loss: 0.1637 - acc: 0.9527 - val_loss: 0.0495 - val_acc: 0.9840\n",
      "Epoch 6/12\n",
      "60000/60000 [==============================] - 4s 66us/step - loss: 0.1485 - acc: 0.9568 - val_loss: 0.0456 - val_acc: 0.9849\n",
      "Epoch 7/12\n",
      "60000/60000 [==============================] - 4s 68us/step - loss: 0.1389 - acc: 0.9596 - val_loss: 0.0415 - val_acc: 0.9862\n",
      "Epoch 8/12\n",
      "60000/60000 [==============================] - 4s 68us/step - loss: 0.1317 - acc: 0.9624 - val_loss: 0.0394 - val_acc: 0.9865\n",
      "Epoch 9/12\n",
      "60000/60000 [==============================] - 4s 64us/step - loss: 0.1282 - acc: 0.9633 - val_loss: 0.0375 - val_acc: 0.9872\n",
      "Epoch 10/12\n",
      "60000/60000 [==============================] - 4s 67us/step - loss: 0.1214 - acc: 0.9661 - val_loss: 0.0391 - val_acc: 0.9866\n",
      "Epoch 11/12\n",
      "60000/60000 [==============================] - 4s 67us/step - loss: 0.1198 - acc: 0.9669 - val_loss: 0.0354 - val_acc: 0.9880\n",
      "Epoch 12/12\n",
      "60000/60000 [==============================] - 4s 64us/step - loss: 0.1149 - acc: 0.9674 - val_loss: 0.0371 - val_acc: 0.9875\n",
      "Test loss: 0.03705489943146822\n",
      "Test accuracy: 0.9875\n"
     ]
    }
   ],
   "source": [
    "# Credits: https://github.com/keras-team/keras/blob/master/examples/mnist_cnn.py\n",
    "\n",
    "\n",
    "from __future__ import print_function\n",
    "import keras\n",
    "from keras.datasets import mnist\n",
    "from keras.models import Sequential\n",
    "from keras.layers import Dense, Dropout, Flatten\n",
    "from keras.layers import Conv2D, MaxPooling2D\n",
    "from keras import backend as K\n",
    "\n",
    "batch_size = 128\n",
    "num_classes = 10\n",
    "epochs = 12\n",
    "\n",
    "# input image dimensions\n",
    "img_rows, img_cols = 28, 28\n",
    "\n",
    "# the data, split between train and test sets\n",
    "(x_train, y_train), (x_test, y_test) = mnist.load_data()\n",
    "\n",
    "if K.image_data_format() == 'channels_first':\n",
    "    x_train = x_train.reshape(x_train.shape[0], 1, img_rows, img_cols)\n",
    "    x_test = x_test.reshape(x_test.shape[0], 1, img_rows, img_cols)\n",
    "    input_shape = (1, img_rows, img_cols)\n",
    "else:\n",
    "    x_train = x_train.reshape(x_train.shape[0], img_rows, img_cols, 1)\n",
    "    x_test = x_test.reshape(x_test.shape[0], img_rows, img_cols, 1)\n",
    "    input_shape = (img_rows, img_cols, 1)\n",
    "\n",
    "x_train = x_train.astype('float32')\n",
    "x_test = x_test.astype('float32')\n",
    "x_train /= 255\n",
    "x_test /= 255\n",
    "print('x_train shape:', x_train.shape)\n",
    "print(x_train.shape[0], 'train samples')\n",
    "print(x_test.shape[0], 'test samples')\n",
    "\n",
    "# convert class vectors to binary class matrices\n",
    "y_train = keras.utils.to_categorical(y_train, num_classes)\n",
    "y_test = keras.utils.to_categorical(y_test, num_classes)\n",
    "\n",
    "model_1 = Sequential()\n",
    "model_1.add(Conv2D(32, kernel_size=(2,2),\n",
    "                 activation='relu',\n",
    "                 input_shape=input_shape))\n",
    "\n",
    "model_1.add(Conv2D(64, (2,2), activation='relu'))\n",
    "model_1.add(MaxPooling2D(pool_size=(2,2)))\n",
    "model_1.add(Dropout(0.25))\n",
    "\n",
    "model_1.add(Conv2D(64, (2,2), activation='relu'))\n",
    "model_1.add(MaxPooling2D(pool_size=(2,2)))\n",
    "model_1.add(Dropout(0.5))\n",
    "\n",
    "model_1.add(Flatten())\n",
    "model_1.add(Dense(128, activation='relu'))\n",
    "model_1.add(Dropout(0.75))\n",
    "model_1.add(Dense(num_classes, activation='softmax'))\n",
    "\n",
    "model_1.compile(loss=keras.losses.categorical_crossentropy,\n",
    "              optimizer=keras.optimizers.Adadelta(),\n",
    "              metrics=['accuracy'])\n",
    "\n",
    "model_1.fit(x_train, y_train,\n",
    "          batch_size=batch_size,\n",
    "          epochs=epochs,\n",
    "          verbose=1,\n",
    "          validation_data=(x_test, y_test))\n",
    "score = model_1.evaluate(x_test, y_test, verbose=0)\n",
    "print('Test loss:', score[0])\n",
    "print('Test accuracy:', score[1])"
   ]
  },
  {
   "cell_type": "code",
   "execution_count": 0,
   "metadata": {
    "colab": {
     "base_uri": "https://localhost:8080/",
     "height": 738
    },
    "colab_type": "code",
    "id": "bkRF6r7UIaOc",
    "outputId": "2c2930df-04a0-4691-8f76-3b3c3eaaa604"
   },
   "outputs": [
    {
     "name": "stdout",
     "output_type": "stream",
     "text": [
      "Train on 60000 samples, validate on 10000 samples\n",
      "Epoch 1/12\n",
      "60000/60000 [==============================] - 4s 63us/step - loss: 0.1153 - acc: 0.9681 - val_loss: 0.0338 - val_acc: 0.9886\n",
      "Epoch 2/12\n",
      "60000/60000 [==============================] - 4s 63us/step - loss: 0.1089 - acc: 0.9685 - val_loss: 0.0349 - val_acc: 0.9878\n",
      "Epoch 3/12\n",
      "60000/60000 [==============================] - 4s 65us/step - loss: 0.1091 - acc: 0.9692 - val_loss: 0.0315 - val_acc: 0.9892\n",
      "Epoch 4/12\n",
      "60000/60000 [==============================] - 4s 65us/step - loss: 0.1066 - acc: 0.9699 - val_loss: 0.0327 - val_acc: 0.9889\n",
      "Epoch 5/12\n",
      "60000/60000 [==============================] - 4s 64us/step - loss: 0.1053 - acc: 0.9703 - val_loss: 0.0345 - val_acc: 0.9882\n",
      "Epoch 6/12\n",
      "60000/60000 [==============================] - 4s 62us/step - loss: 0.1012 - acc: 0.9714 - val_loss: 0.0309 - val_acc: 0.9890\n",
      "Epoch 7/12\n",
      "60000/60000 [==============================] - 4s 64us/step - loss: 0.1041 - acc: 0.9709 - val_loss: 0.0304 - val_acc: 0.9902\n",
      "Epoch 8/12\n",
      "60000/60000 [==============================] - 4s 66us/step - loss: 0.0996 - acc: 0.9711 - val_loss: 0.0291 - val_acc: 0.9900\n",
      "Epoch 9/12\n",
      "60000/60000 [==============================] - 4s 64us/step - loss: 0.0997 - acc: 0.9726 - val_loss: 0.0331 - val_acc: 0.9901\n",
      "Epoch 10/12\n",
      "60000/60000 [==============================] - 4s 65us/step - loss: 0.0949 - acc: 0.9735 - val_loss: 0.0330 - val_acc: 0.9891\n",
      "Epoch 11/12\n",
      "60000/60000 [==============================] - 4s 64us/step - loss: 0.0929 - acc: 0.9737 - val_loss: 0.0285 - val_acc: 0.9899\n",
      "Epoch 12/12\n",
      "60000/60000 [==============================] - 4s 62us/step - loss: 0.0964 - acc: 0.9739 - val_loss: 0.0283 - val_acc: 0.9902\n",
      "Test score: 0.028273008040574497\n",
      "Test accuracy: 0.9902\n"
     ]
    },
    {
     "data": {
      "image/png": "[encoded data removed]",
      "text/plain": [
       "<Figure size 432x288 with 1 Axes>"
      ]
     },
     "metadata": {
      "tags": []
     },
     "output_type": "display_data"
    }
   ],
   "source": [
    "%matplotlib notebook\n",
    "import matplotlib.pyplot as plt\n",
    "import numpy as np\n",
    "import time\n",
    "%matplotlib inline \n",
    "def plt_dynamic(x, vy, ty, ax, colors=['b']):\n",
    "    ax.plot(x, vy, 'b', label=\"Validation Loss\")\n",
    "    ax.plot(x, ty, 'r', label=\"Train Loss\")\n",
    "    plt.legend()\n",
    "    plt.grid()\n",
    "    fig.canvas.draw()\n",
    "history = model_1.fit(x_train, y_train,batch_size=batch_size,epochs=epochs,verbose=1,validation_data=(x_test, y_test))\n",
    "score = model_1.evaluate(x_test, y_test, verbose=0) \n",
    "print('Test score:', score[0]) \n",
    "print('Test accuracy:', score[1])\n",
    "\n",
    "fig,ax = plt.subplots(1,1)\n",
    "ax.set_xlabel('epoch') ; ax.set_ylabel('Categorical Crossentropy Loss')\n",
    "\n",
    "# list of epoch numbers\n",
    "x = list(range(1,epochs+1))\n",
    "\n",
    "# print(history.history.keys())\n",
    "# dict_keys(['val_loss', 'val_acc', 'loss', 'acc'])\n",
    "# history = model_drop.fit(X_train, Y_train, batch_size=batch_size, epochs=nb_epoch, verbose=1, validation_data=(X_test, Y_test))\n",
    "\n",
    "# we will get val_loss and val_acc only when you pass the paramter validation_data\n",
    "# val_loss : validation loss\n",
    "# val_acc : validation accuracy\n",
    "\n",
    "# loss : training loss\n",
    "# acc : train accuracy\n",
    "# for each key in histrory.histrory we will have a list of length equal to number of epochs\n",
    "\n",
    "vy = history.history['val_loss']\n",
    "ty = history.history['loss']\n",
    "plt_dynamic(x, vy, ty, ax)"
   ]
  },
  {
   "cell_type": "markdown",
   "metadata": {
    "colab_type": "text",
    "id": "3NQkWBVnWIkL"
   },
   "source": [
    "# 5 convolution layer with kernal size (5,5) + dropout layer"
   ]
  },
  {
   "cell_type": "code",
   "execution_count": 0,
   "metadata": {
    "colab": {
     "base_uri": "https://localhost:8080/",
     "height": 476
    },
    "colab_type": "code",
    "id": "7GwxkVHaV_Lq",
    "outputId": "afec7c41-aec2-4a7b-b5a7-7f402863fee3"
   },
   "outputs": [
    {
     "name": "stdout",
     "output_type": "stream",
     "text": [
      "Train on 60000 samples, validate on 10000 samples\n",
      "Epoch 1/12\n",
      "60000/60000 [==============================] - 10s 166us/step - loss: 0.3713 - acc: 0.8864 - val_loss: 0.0477 - val_acc: 0.9861\n",
      "Epoch 2/12\n",
      "60000/60000 [==============================] - 9s 148us/step - loss: 0.0610 - acc: 0.9820 - val_loss: 0.0362 - val_acc: 0.9891\n",
      "Epoch 3/12\n",
      "60000/60000 [==============================] - 9s 147us/step - loss: 0.0450 - acc: 0.9869 - val_loss: 0.0320 - val_acc: 0.9899\n",
      "Epoch 4/12\n",
      "60000/60000 [==============================] - 9s 148us/step - loss: 0.0369 - acc: 0.9895 - val_loss: 0.0250 - val_acc: 0.9924\n",
      "Epoch 5/12\n",
      "60000/60000 [==============================] - 9s 149us/step - loss: 0.0276 - acc: 0.9920 - val_loss: 0.0325 - val_acc: 0.9901\n",
      "Epoch 6/12\n",
      "60000/60000 [==============================] - 9s 147us/step - loss: 0.0260 - acc: 0.9924 - val_loss: 0.0240 - val_acc: 0.9918\n",
      "Epoch 7/12\n",
      "60000/60000 [==============================] - 9s 149us/step - loss: 0.0220 - acc: 0.9932 - val_loss: 0.0291 - val_acc: 0.9933\n",
      "Epoch 8/12\n",
      "60000/60000 [==============================] - 9s 149us/step - loss: 0.0182 - acc: 0.9947 - val_loss: 0.0232 - val_acc: 0.9929\n",
      "Epoch 9/12\n",
      "60000/60000 [==============================] - 9s 150us/step - loss: 0.0178 - acc: 0.9947 - val_loss: 0.0242 - val_acc: 0.9932\n",
      "Epoch 10/12\n",
      "60000/60000 [==============================] - 9s 149us/step - loss: 0.0138 - acc: 0.9960 - val_loss: 0.0233 - val_acc: 0.9939\n",
      "Epoch 11/12\n",
      "60000/60000 [==============================] - 9s 149us/step - loss: 0.0145 - acc: 0.9956 - val_loss: 0.0212 - val_acc: 0.9938\n",
      "Epoch 12/12\n",
      "60000/60000 [==============================] - 9s 147us/step - loss: 0.0127 - acc: 0.9959 - val_loss: 0.0355 - val_acc: 0.9911\n",
      "Test loss: 0.035549721304017796\n",
      "Test accuracy: 0.9911\n"
     ]
    }
   ],
   "source": [
    "model_2 = Sequential()\n",
    "model_2.add(Conv2D(32, kernel_size=(5,5),\n",
    "                 activation='relu',\n",
    "                 input_shape=input_shape))\n",
    "\n",
    "model_2.add(Conv2D(64, (5,5), activation='relu'))\n",
    "model_2.add(MaxPooling2D(pool_size=(2, 2),strides=(1,1),padding='same'))\n",
    "model_2.add(Dropout(0.25))\n",
    "\n",
    "model_2.add(Conv2D(64, (5,5), activation='relu'))\n",
    "model_2.add(MaxPooling2D(pool_size=(2, 2),strides=(1,1),padding='same'))\n",
    "model_2.add(Dropout(0.25))\n",
    "\n",
    "model_2.add(Conv2D(128, (5,5), activation='relu'))\n",
    "model_2.add(MaxPooling2D(pool_size=(2, 2),strides=(1,1),padding='same'))\n",
    "model_2.add(Dropout(0.25))\n",
    "\n",
    "model_2.add(Conv2D(128, (5,5), activation='relu'))\n",
    "model_2.add(MaxPooling2D(pool_size=(2, 2),strides=(1,1),padding='same'))\n",
    "model_2.add(Dropout(0.25))\n",
    "\n",
    "model_2.add(Flatten())\n",
    "model_2.add(Dense(512, activation='relu'))\n",
    "model_2.add(Dropout(0.5))\n",
    "model_2.add(Dense(num_classes, activation='softmax'))\n",
    "\n",
    "model_2.compile(loss=keras.losses.categorical_crossentropy,\n",
    "              optimizer=keras.optimizers.Adadelta(),\n",
    "              metrics=['accuracy'])\n",
    "\n",
    "model_2.fit(x_train, y_train,\n",
    "          batch_size=batch_size,\n",
    "          epochs=epochs,\n",
    "          verbose=1,\n",
    "          validation_data=(x_test, y_test))\n",
    "score = model_2.evaluate(x_test, y_test, verbose=0)\n",
    "print('Test loss:', score[0])\n",
    "print('Test accuracy:', score[1])"
   ]
  },
  {
   "cell_type": "code",
   "execution_count": 0,
   "metadata": {
    "colab": {
     "base_uri": "https://localhost:8080/",
     "height": 738
    },
    "colab_type": "code",
    "id": "Ip_1d1KEyIEO",
    "outputId": "9a89bedc-9f04-4032-c247-fe25a8788f54"
   },
   "outputs": [
    {
     "name": "stdout",
     "output_type": "stream",
     "text": [
      "Train on 60000 samples, validate on 10000 samples\n",
      "Epoch 1/12\n",
      "60000/60000 [==============================] - 9s 149us/step - loss: 0.0116 - acc: 0.9967 - val_loss: 0.0231 - val_acc: 0.9935\n",
      "Epoch 2/12\n",
      "60000/60000 [==============================] - 9s 147us/step - loss: 0.0098 - acc: 0.9969 - val_loss: 0.0280 - val_acc: 0.9931\n",
      "Epoch 3/12\n",
      "60000/60000 [==============================] - 9s 149us/step - loss: 0.0103 - acc: 0.9972 - val_loss: 0.0244 - val_acc: 0.9934\n",
      "Epoch 4/12\n",
      "60000/60000 [==============================] - 9s 148us/step - loss: 0.0097 - acc: 0.9972 - val_loss: 0.0267 - val_acc: 0.9935\n",
      "Epoch 5/12\n",
      "60000/60000 [==============================] - 9s 150us/step - loss: 0.0095 - acc: 0.9974 - val_loss: 0.0419 - val_acc: 0.9924\n",
      "Epoch 6/12\n",
      "60000/60000 [==============================] - 9s 151us/step - loss: 0.0070 - acc: 0.9981 - val_loss: 0.0324 - val_acc: 0.9939\n",
      "Epoch 7/12\n",
      "60000/60000 [==============================] - 9s 150us/step - loss: 0.0069 - acc: 0.9982 - val_loss: 0.0283 - val_acc: 0.9929\n",
      "Epoch 8/12\n",
      "60000/60000 [==============================] - 9s 149us/step - loss: 0.0072 - acc: 0.9977 - val_loss: 0.0313 - val_acc: 0.9933\n",
      "Epoch 9/12\n",
      "60000/60000 [==============================] - 9s 147us/step - loss: 0.0076 - acc: 0.9980 - val_loss: 0.0266 - val_acc: 0.9950\n",
      "Epoch 10/12\n",
      "60000/60000 [==============================] - 9s 147us/step - loss: 0.0064 - acc: 0.9981 - val_loss: 0.0393 - val_acc: 0.9923\n",
      "Epoch 11/12\n",
      "60000/60000 [==============================] - 9s 148us/step - loss: 0.0057 - acc: 0.9982 - val_loss: 0.0312 - val_acc: 0.9945\n",
      "Epoch 12/12\n",
      "60000/60000 [==============================] - 9s 149us/step - loss: 0.0053 - acc: 0.9984 - val_loss: 0.0369 - val_acc: 0.9939\n",
      "Test score: 0.0368936752541417\n",
      "Test accuracy: 0.9939\n"
     ]
    },
    {
     "data": {
      "image/png": "[encoded data removed]",
      "text/plain": [
       "<Figure size 432x288 with 1 Axes>"
      ]
     },
     "metadata": {
      "tags": []
     },
     "output_type": "display_data"
    }
   ],
   "source": [
    "\n",
    "history = model_2.fit(x_train, y_train,batch_size=batch_size,epochs=epochs,verbose=1,validation_data=(x_test, y_test))\n",
    "score = model_2.evaluate(x_test, y_test, verbose=0) \n",
    "print('Test score:', score[0]) \n",
    "print('Test accuracy:', score[1])\n",
    "\n",
    "fig,ax = plt.subplots(1,1)\n",
    "ax.set_xlabel('epoch') ; ax.set_ylabel('Categorical Crossentropy Loss')\n",
    "\n",
    "# list of epoch numbers\n",
    "x = list(range(1,epochs+1))\n",
    "\n",
    "# print(history.history.keys())\n",
    "# dict_keys(['val_loss', 'val_acc', 'loss', 'acc'])\n",
    "# history = model_drop.fit(X_train, Y_train, batch_size=batch_size, epochs=nb_epoch, verbose=1, validation_data=(X_test, Y_test))\n",
    "\n",
    "# we will get val_loss and val_acc only when you pass the paramter validation_data\n",
    "# val_loss : validation loss\n",
    "# val_acc : validation accuracy\n",
    "\n",
    "# loss : training loss\n",
    "# acc : train accuracy\n",
    "# for each key in histrory.histrory we will have a list of length equal to number of epochs\n",
    "\n",
    "vy = history.history['val_loss']\n",
    "ty = history.history['loss']\n",
    "plt_dynamic(x, vy, ty, ax)"
   ]
  },
  {
   "cell_type": "markdown",
   "metadata": {
    "colab_type": "text",
    "id": "d-JquNGpYQWR"
   },
   "source": [
    "# 7 convolution layer with different kernal size + dropout layer"
   ]
  },
  {
   "cell_type": "code",
   "execution_count": 0,
   "metadata": {
    "colab": {
     "base_uri": "https://localhost:8080/",
     "height": 476
    },
    "colab_type": "code",
    "id": "XczRBThgoTHQ",
    "outputId": "cc0a36e1-7ab2-4ad5-e5c3-82c9e7766110"
   },
   "outputs": [
    {
     "name": "stdout",
     "output_type": "stream",
     "text": [
      "Train on 60000 samples, validate on 10000 samples\n",
      "Epoch 1/12\n",
      "60000/60000 [==============================] - 8s 135us/step - loss: 0.7312 - acc: 0.7382 - val_loss: 0.0612 - val_acc: 0.9843\n",
      "Epoch 2/12\n",
      "60000/60000 [==============================] - 7s 115us/step - loss: 0.0823 - acc: 0.9817 - val_loss: 0.0580 - val_acc: 0.9851\n",
      "Epoch 3/12\n",
      "60000/60000 [==============================] - 7s 115us/step - loss: 0.0579 - acc: 0.9867 - val_loss: 0.0457 - val_acc: 0.9890\n",
      "Epoch 4/12\n",
      "60000/60000 [==============================] - 7s 116us/step - loss: 0.0461 - acc: 0.9891 - val_loss: 0.0337 - val_acc: 0.9919\n",
      "Epoch 5/12\n",
      "60000/60000 [==============================] - 7s 115us/step - loss: 0.0388 - acc: 0.9909 - val_loss: 0.0414 - val_acc: 0.9900\n",
      "Epoch 6/12\n",
      "60000/60000 [==============================] - 7s 115us/step - loss: 0.0335 - acc: 0.9921 - val_loss: 0.0321 - val_acc: 0.9926\n",
      "Epoch 7/12\n",
      "60000/60000 [==============================] - 7s 115us/step - loss: 0.0286 - acc: 0.9932 - val_loss: 0.0322 - val_acc: 0.9920\n",
      "Epoch 8/12\n",
      "60000/60000 [==============================] - 7s 113us/step - loss: 0.0247 - acc: 0.9941 - val_loss: 0.0389 - val_acc: 0.9913\n",
      "Epoch 9/12\n",
      "60000/60000 [==============================] - 7s 113us/step - loss: 0.0230 - acc: 0.9949 - val_loss: 0.0238 - val_acc: 0.9950\n",
      "Epoch 10/12\n",
      "60000/60000 [==============================] - 7s 115us/step - loss: 0.0192 - acc: 0.9957 - val_loss: 0.0397 - val_acc: 0.9928\n",
      "Epoch 11/12\n",
      "60000/60000 [==============================] - 7s 115us/step - loss: 0.0183 - acc: 0.9961 - val_loss: 0.0250 - val_acc: 0.9937\n",
      "Epoch 12/12\n",
      "60000/60000 [==============================] - 7s 114us/step - loss: 0.0191 - acc: 0.9954 - val_loss: 0.0300 - val_acc: 0.9936\n",
      "Test loss: 0.029967448895259714\n",
      "Test accuracy: 0.9936\n"
     ]
    }
   ],
   "source": [
    "model_3 = Sequential()\n",
    "model_3.add(Conv2D(32, kernel_size=(7,7),\n",
    "                 activation='relu',\n",
    "                 input_shape=input_shape))\n",
    "\n",
    "model_3.add(Conv2D(64, (7,7), activation='relu'))\n",
    "model_3.add(MaxPooling2D(pool_size=(2,2),strides=(1,1),padding='same'))\n",
    "model_3.add(Dropout(0.25))\n",
    "\n",
    "model_3.add(Conv2D(64, (7,7), activation='relu'))\n",
    "model_3.add(MaxPooling2D(pool_size=(2,2),strides=(1,1),padding='same'))\n",
    "model_3.add(Dropout(0.25))\n",
    "\n",
    "model_3.add(Conv2D(128, (5,5), activation='relu'))\n",
    "model_3.add(MaxPooling2D(pool_size=(2,2),strides=(1,1),padding='same'))\n",
    "model_3.add(Dropout(0.25))\n",
    "\n",
    "model_3.add(Conv2D(128, (5,5), activation='relu'))\n",
    "model_3.add(MaxPooling2D(pool_size=(2,2),strides=(1,1),padding='same'))\n",
    "model_3.add(Dropout(0.25))\n",
    "\n",
    "model_3.add(Conv2D(256, (2,2), activation='relu'))\n",
    "model_3.add(MaxPooling2D(pool_size=(2,2),strides=(1,1),padding='same'))\n",
    "model_3.add(Dropout(0.25))\n",
    "\n",
    "model_3.add(Conv2D(256, (1,1), activation='relu'))\n",
    "model_3.add(MaxPooling2D(pool_size=(2,2),strides=(1,1),padding='same'))\n",
    "model_3.add(Dropout(0.25))\n",
    "\n",
    "model_3.add(Flatten())\n",
    "model_3.add(Dense(512, activation='relu'))\n",
    "model_3.add(Dropout(0.5))\n",
    "model_3.add(Dense(num_classes, activation='softmax'))\n",
    "\n",
    "model_3.compile(loss=keras.losses.categorical_crossentropy,\n",
    "              optimizer=keras.optimizers.Adadelta(),\n",
    "              metrics=['accuracy'])\n",
    "\n",
    "model_3.fit(x_train, y_train,\n",
    "          batch_size=batch_size,\n",
    "          epochs=epochs,\n",
    "          verbose=1,\n",
    "          validation_data=(x_test, y_test))\n",
    "score = model_3.evaluate(x_test, y_test, verbose=0)\n",
    "print('Test loss:', score[0])\n",
    "print('Test accuracy:', score[1])"
   ]
  },
  {
   "cell_type": "code",
   "execution_count": 9,
   "metadata": {
    "colab": {
     "base_uri": "https://localhost:8080/",
     "height": 738
    },
    "colab_type": "code",
    "id": "0e56rCH_oAUg",
    "outputId": "b0e30c4a-76fb-4dbc-c2ea-658934641f04"
   },
   "outputs": [
    {
     "name": "stdout",
     "output_type": "stream",
     "text": [
      "Train on 60000 samples, validate on 10000 samples\n",
      "Epoch 1/12\n",
      "60000/60000 [==============================] - 7s 115us/step - loss: 0.0164 - acc: 0.9966 - val_loss: 0.0442 - val_acc: 0.9926\n",
      "Epoch 2/12\n",
      "60000/60000 [==============================] - 7s 112us/step - loss: 0.0149 - acc: 0.9968 - val_loss: 0.0315 - val_acc: 0.9940\n",
      "Epoch 3/12\n",
      "60000/60000 [==============================] - 7s 116us/step - loss: 0.0145 - acc: 0.9968 - val_loss: 0.0284 - val_acc: 0.9937\n",
      "Epoch 4/12\n",
      "60000/60000 [==============================] - 7s 115us/step - loss: 0.0142 - acc: 0.9970 - val_loss: 0.0297 - val_acc: 0.9935\n",
      "Epoch 5/12\n",
      "60000/60000 [==============================] - 7s 114us/step - loss: 0.0116 - acc: 0.9974 - val_loss: 0.0356 - val_acc: 0.9924\n",
      "Epoch 6/12\n",
      "60000/60000 [==============================] - 7s 115us/step - loss: 0.0120 - acc: 0.9975 - val_loss: 0.0362 - val_acc: 0.9940\n",
      "Epoch 7/12\n",
      "60000/60000 [==============================] - 7s 114us/step - loss: 0.0120 - acc: 0.9972 - val_loss: 0.0339 - val_acc: 0.9931\n",
      "Epoch 8/12\n",
      "60000/60000 [==============================] - 7s 114us/step - loss: 0.0113 - acc: 0.9975 - val_loss: 0.0284 - val_acc: 0.9944\n",
      "Epoch 9/12\n",
      "60000/60000 [==============================] - 7s 114us/step - loss: 0.0088 - acc: 0.9981 - val_loss: 0.0379 - val_acc: 0.9938\n",
      "Epoch 10/12\n",
      "60000/60000 [==============================] - 7s 118us/step - loss: 0.0094 - acc: 0.9981 - val_loss: 0.0332 - val_acc: 0.9927\n",
      "Epoch 11/12\n",
      "60000/60000 [==============================] - 7s 119us/step - loss: 0.0083 - acc: 0.9983 - val_loss: 0.0353 - val_acc: 0.9931\n",
      "Epoch 12/12\n",
      "60000/60000 [==============================] - 7s 116us/step - loss: 0.0100 - acc: 0.9978 - val_loss: 0.0348 - val_acc: 0.9937\n",
      "Test score: 0.03481613806167143\n",
      "Test accuracy: 0.9937\n"
     ]
    },
    {
     "data": {
      "image/png": "[encoded data removed]",
      "text/plain": [
       "<Figure size 432x288 with 1 Axes>"
      ]
     },
     "metadata": {
      "tags": []
     },
     "output_type": "display_data"
    }
   ],
   "source": [
    "\n",
    "history = model_3.fit(x_train, y_train,batch_size=batch_size,epochs=epochs,verbose=1,validation_data=(x_test, y_test))\n",
    "score = model_3.evaluate(x_test, y_test, verbose=0) \n",
    "print('Test score:', score[0]) \n",
    "print('Test accuracy:', score[1])\n",
    "\n",
    "fig,ax = plt.subplots(1,1)\n",
    "ax.set_xlabel('epoch') ; ax.set_ylabel('Categorical Crossentropy Loss')\n",
    "\n",
    "# list of epoch numbers\n",
    "x = list(range(1,epochs+1))\n",
    "\n",
    "# print(history.history.keys())\n",
    "# dict_keys(['val_loss', 'val_acc', 'loss', 'acc'])\n",
    "# history = model_drop.fit(X_train, Y_train, batch_size=batch_size, epochs=nb_epoch, verbose=1, validation_data=(X_test, Y_test))\n",
    "\n",
    "# we will get val_loss and val_acc only when you pass the paramter validation_data\n",
    "# val_loss : validation loss\n",
    "# val_acc : validation accuracy\n",
    "\n",
    "# loss : training loss\n",
    "# acc : train accuracy\n",
    "# for each key in histrory.histrory we will have a list of length equal to number of epochs\n",
    "\n",
    "vy = history.history['val_loss']\n",
    "ty = history.history['loss']\n",
    "plt_dynamic(x, vy, ty, ax)"
   ]
  },
  {
   "cell_type": "code",
   "execution_count": 10,
   "metadata": {
    "colab": {
     "base_uri": "https://localhost:8080/",
     "height": 136
    },
    "colab_type": "code",
    "id": "JD2GB7LcI9oq",
    "outputId": "0fcaee8a-5158-46a3-f4b5-969cf48ba240"
   },
   "outputs": [
    {
     "name": "stdout",
     "output_type": "stream",
     "text": [
      "+----------------------------------------------------------------+-----------+---------------+\n",
      "|                             Model                              | Test loss | Test accuracy |\n",
      "+----------------------------------------------------------------+-----------+---------------+\n",
      "|   3 convolution layer with kernal size(2,2) + dropout layer    |    0.03   |      0.98     |\n",
      "|   5 convolution layer with kernal size(5,5) + dropout layer    |   14.53   |      0.09     |\n",
      "| 7 convolution layer with different kernal size + dropout layer |   14.49   |      0.1      |\n",
      "+----------------------------------------------------------------+-----------+---------------+\n"
     ]
    }
   ],
   "source": [
    "from prettytable import PrettyTable\n",
    "    \n",
    "x = PrettyTable()\n",
    "\n",
    "x.field_names = [\"Model\", \"Test loss\", \"Test accuracy\"]\n",
    "\n",
    "x.add_row([\"3 convolution layer with kernal size(2,2) + dropout layer\",0.03, 0.98])\n",
    "x.add_row([\"5 convolution layer with kernal size(5,5) + dropout layer\",14.53, 0.09])\n",
    "x.add_row([\"7 convolution layer with different kernal size + dropout layer\",14.49, 0.10])\n",
    "\n",
    "\n",
    " \n",
    "print(x)"
   ]
  }
 ],
 "metadata": {
  "accelerator": "GPU",
  "colab": {
   "collapsed_sections": [],
   "name": "CNN_MNIST_NEW.ipynb",
   "provenance": []
  },
  "kernelspec": {
   "display_name": "Python 3",
   "language": "python",
   "name": "python3"
  },
  "language_info": {
   "codemirror_mode": {
    "name": "ipython",
    "version": 3
   },
   "file_extension": ".py",
   "mimetype": "text/x-python",
   "name": "python",
   "nbconvert_exporter": "python",
   "pygments_lexer": "ipython3",
   "version": "3.6.5"
  }
 },
 "nbformat": 4,
 "nbformat_minor": 1
}
